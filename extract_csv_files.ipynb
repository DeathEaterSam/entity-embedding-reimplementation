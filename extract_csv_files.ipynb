{
 "cells": [
  {
   "cell_type": "markdown",
   "metadata": {},
   "source": [
    "# Imports"
   ]
  },
  {
   "cell_type": "code",
   "execution_count": 1,
   "metadata": {},
   "outputs": [],
   "source": [
    "import pickle\n",
    "import csv"
   ]
  },
  {
   "cell_type": "markdown",
   "metadata": {},
   "source": [
    "# Define Functions"
   ]
  },
  {
   "cell_type": "code",
   "execution_count": 2,
   "metadata": {},
   "outputs": [],
   "source": [
    "# The following function iterates a csv file and returns a list of dictionaries\n",
    "def csv2dicts(csvfile):\n",
    "    data = [] # stores a list of dictionaries. Each dictionary is a row in the csv file\n",
    "    keys = [] # stores the keys of the dictionary\n",
    "    for row_index, row in enumerate(csvfile):\n",
    "        if row_index == 0: # first row is the header\n",
    "            keys = row # store the keys\n",
    "            continue # skip the rest of the code and go to the next iteration\n",
    "        data.append({key: value for key, value in zip(keys, row)}) # create a dictionary for each row\n",
    "    return data # return the list of dictionaries\n",
    "\n",
    "# The following function iterates over the data and replaces empty strings with a given string (default is '0')\n",
    "def set_nan_as_string(data, replace_str='0'):\n",
    "    for i, x in enumerate(data):\n",
    "        for key, value in x.items():\n",
    "            if value == '': # Check if string is empty\n",
    "                x[key] = replace_str # Replace empty string with a given string\n",
    "        data[i] = x # Update the dictionary"
   ]
  },
  {
   "cell_type": "markdown",
   "metadata": {},
   "source": [
    "# Declare Paths"
   ]
  },
  {
   "cell_type": "code",
   "execution_count": 3,
   "metadata": {},
   "outputs": [],
   "source": [
    "train_data = \"train.csv\"\n",
    "store_data = \"store.csv\"\n",
    "store_states = 'store_states.csv'"
   ]
  },
  {
   "cell_type": "markdown",
   "metadata": {},
   "source": [
    "# Data Extraction"
   ]
  },
  {
   "cell_type": "code",
   "execution_count": 4,
   "metadata": {},
   "outputs": [
    {
     "name": "stdout",
     "output_type": "stream",
     "text": [
      "[{'Store': '1115', 'DayOfWeek': '2', 'Date': '2013-01-01', 'Sales': '0', 'Customers': '0', 'Open': '0', 'Promo': '0', 'StateHoliday': 'a', 'SchoolHoliday': '1'}, {'Store': '1114', 'DayOfWeek': '2', 'Date': '2013-01-01', 'Sales': '0', 'Customers': '0', 'Open': '0', 'Promo': '0', 'StateHoliday': 'a', 'SchoolHoliday': '1'}, {'Store': '1113', 'DayOfWeek': '2', 'Date': '2013-01-01', 'Sales': '0', 'Customers': '0', 'Open': '0', 'Promo': '0', 'StateHoliday': 'a', 'SchoolHoliday': '1'}]\n",
      "[{'Store': '1', 'StoreType': 'c', 'Assortment': 'a', 'CompetitionDistance': '1270', 'CompetitionOpenSinceMonth': '9', 'CompetitionOpenSinceYear': '2008', 'Promo2': '0', 'Promo2SinceWeek': '0', 'Promo2SinceYear': '0', 'PromoInterval': '0', 'State': 'HE'}, {'Store': '2', 'StoreType': 'a', 'Assortment': 'a', 'CompetitionDistance': '570', 'CompetitionOpenSinceMonth': '11', 'CompetitionOpenSinceYear': '2007', 'Promo2': '1', 'Promo2SinceWeek': '13', 'Promo2SinceYear': '2010', 'PromoInterval': 'Jan,Apr,Jul,Oct', 'State': 'TH'}]\n"
     ]
    }
   ],
   "source": [
    "# Read train.csv and convert it to a list of dictionaries. Reverse the data so that it is sorted by date. Save the data as a pickle file\n",
    "with open(train_data) as csvfile:\n",
    "    data = csv.reader(csvfile, delimiter=',') # read the csv file\n",
    "    with open('train_data.pickle', 'wb') as f:\n",
    "        data = csv2dicts(data) # convert the csv file to a list of dictionaries\n",
    "        data = data[::-1] # reverse the data so that it is sorted by date\n",
    "        pickle.dump(data, f, -1) # save the data as a pickle file\n",
    "        print(data[:3]) # print the first 3 rows of the data\n",
    "\n",
    "# Read store.csv and store_states.csv. Convert them to lists of dictionaries. Remove empty strings from stores.csv. Add the state column from store_states.csv to stores.csv. Save the data as a pickle file\n",
    "with open(store_data) as csvfile, open(store_states) as csvfile2:\n",
    "    data = csv.reader(csvfile, delimiter=',') # read the store.csv file\n",
    "    state_data = csv.reader(csvfile2, delimiter=',') # read the store_states.csv file\n",
    "    with open('store_data.pickle', 'wb') as f:\n",
    "        data = csv2dicts(data) # convert the store.csv file to a list of dictionaries\n",
    "        state_data = csv2dicts(state_data) # convert the store_states.csv file to a list of dictionaries\n",
    "        set_nan_as_string(data) # remove empty strings from the store.csv file\n",
    "        for index, val in enumerate(data): # iterate over the store.csv file\n",
    "            state = state_data[index] # get the state from the store_states.csv file\n",
    "            val['State'] = state['State'] # add the state to the store.csv file\n",
    "            data[index] = val # update the dictionary\n",
    "        pickle.dump(data, f, -1) # save the data as a pickle file\n",
    "        print(data[:2]) # print the first 2 rows of the data"
   ]
  }
 ],
 "metadata": {
  "kernelspec": {
   "display_name": "MLProj",
   "language": "python",
   "name": "python3"
  },
  "language_info": {
   "codemirror_mode": {
    "name": "ipython",
    "version": 3
   },
   "file_extension": ".py",
   "mimetype": "text/x-python",
   "name": "python",
   "nbconvert_exporter": "python",
   "pygments_lexer": "ipython3",
   "version": "3.11.6"
  }
 },
 "nbformat": 4,
 "nbformat_minor": 2
}
