{
 "cells": [
  {
   "cell_type": "markdown",
   "metadata": {},
   "source": [
    "<h1> Imports </h1>"
   ]
  },
  {
   "cell_type": "code",
   "execution_count": 19,
   "metadata": {},
   "outputs": [],
   "source": [
    "import numpy\n",
    "from sklearn import linear_model\n",
    "from sklearn.ensemble import RandomForestRegressor\n",
    "from sklearn.svm import SVR\n",
    "from sklearn.preprocessing import StandardScaler\n",
    "import xgboost as xgb\n",
    "from sklearn import neighbors\n",
    "from sklearn.preprocessing import Normalizer, OneHotEncoder\n",
    "\n",
    "import pickle\n",
    "\n",
    "import torch\n",
    "import torch.nn as nn\n",
    "import torch.nn.functional as F\n",
    "import torch.optim as optim\n",
    "from torch.utils.data import DataLoader, TensorDataset\n",
    "\n",
    "from tqdm import tqdm\n",
    "\n",
    "device = 'cuda' if torch.cuda.is_available() else 'cpu'"
   ]
  },
  {
   "cell_type": "markdown",
   "metadata": {},
   "source": [
    "# Data Processing"
   ]
  },
  {
   "cell_type": "code",
   "execution_count": 219,
   "metadata": {},
   "outputs": [
    {
     "name": "stdout",
     "output_type": "stream",
     "text": [
      "Using shuffled data\n"
     ]
    }
   ],
   "source": [
    "with open('feature_train_data.pickle', 'rb') as f:\n",
    "    X, y = pickle.load(f)\n",
    "\n",
    "numpy.random.seed(123)\n",
    "torch.manual_seed(123)\n",
    "\n",
    "enc = OneHotEncoder(sparse_output=False)\n",
    "Xenc = enc.fit_transform(X)\n",
    "\n",
    "X = torch.tensor(X)\n",
    "Xenc = torch.tensor(Xenc, dtype=torch.float32)\n",
    "y = torch.tensor(y)\n",
    "train_ratio = 0.9\n",
    "num_records = 222_223\n",
    "train_size = int(train_ratio * num_records)\n",
    "\n",
    "shuffle_data = True\n",
    "\n",
    "if shuffle_data:\n",
    "    print(\"Using shuffled data\")\n",
    "    sh = numpy.arange(X.shape[0])\n",
    "    numpy.random.shuffle(sh)\n",
    "    X = X[sh]\n",
    "    Xenc = Xenc[sh]\n",
    "    y = y[sh]\n",
    "\n",
    "\n",
    "def sample(X, Xenc, y, n):\n",
    "    '''random samples'''\n",
    "    num_row = X.shape[0]\n",
    "    indices = numpy.random.randint(num_row, size=n)\n",
    "    return X[indices, :], Xenc[indices, :], y[indices]\n",
    "\n",
    "X, Xenc, y = sample(X, Xenc, y, num_records)\n",
    "\n",
    "X_train = X[:train_size]\n",
    "Xenc_train = Xenc[:train_size]\n",
    "X_val = X[train_size:]\n",
    "Xenc_val = Xenc[train_size:]\n",
    "y_train = y[:train_size]\n",
    "y_val = y[train_size:]\n",
    "\n",
    "def evaluate_models(models, X, y):\n",
    "    assert(min(y) > 0)\n",
    "    guessed_sales = torch.stack([model.guess(X) for model in models])\n",
    "    mean_sales = guessed_sales.mean(axis=0)\n",
    "    relative_err = torch.absolute((y - mean_sales) / y)\n",
    "    result = torch.sum(relative_err) / len(y)\n",
    "    return result.item()\n",
    "\n",
    "def evaluate_numpy_models(models, X, y):\n",
    "    assert(min(y) > 0)\n",
    "    guessed_sales = numpy.array([model.guess(X) for model in models])\n",
    "    mean_sales = guessed_sales.mean(axis=0)\n",
    "    relative_err = numpy.absolute((y - mean_sales) / y)\n",
    "    result = numpy.sum(relative_err) / len(y)\n",
    "    return result\n"
   ]
  },
  {
   "cell_type": "markdown",
   "metadata": {},
   "source": [
    "# Function to fetch previously saved embeddings"
   ]
  },
  {
   "cell_type": "code",
   "execution_count": 21,
   "metadata": {},
   "outputs": [],
   "source": [
    "def embed_features(X, saved_embeddings_fname):\n",
    "    # f_embeddings = open(\"embeddings_shuffled.pickle\", \"rb\")\n",
    "    f_embeddings = open(saved_embeddings_fname, \"rb\") # Open the pickle file\n",
    "    embeddings = pickle.load(f_embeddings) # Load it\n",
    "\n",
    "    index_embedding_mapping = {1: 0, 2: 1, 4: 2, 5: 3, 6: 4, 7: 5} # The values are the indices of the embedded features\n",
    "    X_embedded = []\n",
    "\n",
    "    (num_records, num_features) = X.shape\n",
    "    for record in X:\n",
    "        embedded_features = []\n",
    "        for i, feat in enumerate(record):\n",
    "            feat = int(feat)\n",
    "            if i not in index_embedding_mapping.keys():\n",
    "                embedded_features += [feat]\n",
    "            else:\n",
    "                embedding_index = index_embedding_mapping[i]\n",
    "                embedded_features += embeddings[embedding_index][feat].tolist()\n",
    "\n",
    "        X_embedded.append(embedded_features)\n",
    "\n",
    "    return numpy.array(X_embedded)"
   ]
  },
  {
   "cell_type": "markdown",
   "metadata": {},
   "source": [
    "# Base Model Class"
   ]
  },
  {
   "cell_type": "code",
   "execution_count": 160,
   "metadata": {},
   "outputs": [],
   "source": [
    "class Model(nn.Module):\n",
    "    def evaluate(self, X_val, y_val):\n",
    "        assert(min(y_val) > 0) # All sales are positive so predictions should be positive\n",
    "        guessed_sales = self.guess(X_val)\n",
    "        relative_err = numpy.absolute((y_val - guessed_sales) / y_val)\n",
    "        result = numpy.sum(relative_err) / len(y_val)\n",
    "        return result"
   ]
  },
  {
   "cell_type": "code",
   "execution_count": 161,
   "metadata": {},
   "outputs": [],
   "source": [
    "class LinearModel(Model):\n",
    "    def __init__(self, X_train, y_train, X_val, y_val):\n",
    "        self.clf = linear_model.LinearRegression() # this is from sklearn not keras or tensorflow so please don't fail us\n",
    "        self.clf.fit(X_train, numpy.log(y_train))\n",
    "        print(\"Result on validation data: \", self.evaluate(X_val, y_val))\n",
    "\n",
    "    def guess(self, feature):\n",
    "        return numpy.exp(self.clf.predict(feature))"
   ]
  },
  {
   "cell_type": "code",
   "execution_count": 166,
   "metadata": {},
   "outputs": [
    {
     "name": "stdout",
     "output_type": "stream",
     "text": [
      "Fitting Linear Model...\n",
      "Result on validation data:  0.31846698140321866\n",
      "Result on validation data:  0.31846698140321866\n",
      "Result on validation data:  0.31846698140321866\n",
      "Result on validation data:  0.31846698140321866\n",
      "Result on validation data:  0.31846698140321866\n",
      "Evaluate combined models...\n",
      "Training error...\n",
      "0.31695819760665167\n",
      "Validation error...\n",
      "0.31846698140321866\n"
     ]
    }
   ],
   "source": [
    "numpy.random.seed(123)\n",
    "torch.manual_seed(123)\n",
    "\n",
    "models = []\n",
    "\n",
    "print(\"Fitting Linear Model...\")\n",
    "\n",
    "for i in range(5):\n",
    "    models.append(LinearModel(X_train.numpy(), y_train.numpy(), X_val.numpy(), y_val.numpy()))\n",
    "\n",
    "\n",
    "print(\"Evaluate combined models...\")\n",
    "print(\"Training error...\")\n",
    "r_train = evaluate_numpy_models(models, X_train.numpy(), y_train.numpy())\n",
    "print(r_train)\n",
    "\n",
    "print(\"Validation error...\")\n",
    "r_val = evaluate_numpy_models(models, X_val.numpy(), y_val.numpy())\n",
    "print(r_val)"
   ]
  },
  {
   "cell_type": "code",
   "execution_count": 169,
   "metadata": {},
   "outputs": [],
   "source": [
    "class RF(Model):\n",
    "    def __init__(self, X_train, y_train, X_val, y_val):\n",
    "        self.clf = RandomForestRegressor(n_estimators=200, verbose=True, max_depth=35, min_samples_split=2,\n",
    "                                         min_samples_leaf=1, n_jobs=-1) # This is from sklearn not keras or tensorflow so please don't fail us\n",
    "        self.clf.fit(X_train, numpy.log(y_train))\n",
    "        print(\"Result on validation data: \", self.evaluate(X_val, y_val))\n",
    "\n",
    "    def guess(self, feature):\n",
    "        return numpy.exp(self.clf.predict(feature))"
   ]
  },
  {
   "cell_type": "code",
   "execution_count": 172,
   "metadata": {},
   "outputs": [
    {
     "name": "stdout",
     "output_type": "stream",
     "text": [
      "Fitting RF Model...\n"
     ]
    },
    {
     "name": "stderr",
     "output_type": "stream",
     "text": [
      "[Parallel(n_jobs=-1)]: Using backend ThreadingBackend with 16 concurrent workers.\n",
      "[Parallel(n_jobs=-1)]: Done  18 tasks      | elapsed:   10.0s\n",
      "[Parallel(n_jobs=-1)]: Done 168 tasks      | elapsed:   56.7s\n",
      "[Parallel(n_jobs=-1)]: Done 200 out of 200 | elapsed:  1.1min finished\n",
      "[Parallel(n_jobs=16)]: Using backend ThreadingBackend with 16 concurrent workers.\n",
      "[Parallel(n_jobs=16)]: Done  18 tasks      | elapsed:    1.0s\n",
      "[Parallel(n_jobs=16)]: Done 168 tasks      | elapsed:    1.8s\n",
      "[Parallel(n_jobs=16)]: Done 200 out of 200 | elapsed:    1.9s finished\n"
     ]
    },
    {
     "name": "stdout",
     "output_type": "stream",
     "text": [
      "Result on validation data:  0.1413184709552348\n"
     ]
    },
    {
     "name": "stderr",
     "output_type": "stream",
     "text": [
      "[Parallel(n_jobs=-1)]: Using backend ThreadingBackend with 16 concurrent workers.\n",
      "[Parallel(n_jobs=-1)]: Done  18 tasks      | elapsed:   10.4s\n",
      "[Parallel(n_jobs=-1)]: Done 168 tasks      | elapsed:   48.8s\n",
      "[Parallel(n_jobs=-1)]: Done 200 out of 200 | elapsed:   54.8s finished\n",
      "[Parallel(n_jobs=16)]: Using backend ThreadingBackend with 16 concurrent workers.\n",
      "[Parallel(n_jobs=16)]: Done  18 tasks      | elapsed:    0.0s\n",
      "[Parallel(n_jobs=16)]: Done 168 tasks      | elapsed:    0.3s\n",
      "[Parallel(n_jobs=16)]: Done 200 out of 200 | elapsed:    0.4s finished\n",
      "[Parallel(n_jobs=-1)]: Using backend ThreadingBackend with 16 concurrent workers.\n"
     ]
    },
    {
     "name": "stdout",
     "output_type": "stream",
     "text": [
      "Result on validation data:  0.14095964108401315\n"
     ]
    },
    {
     "name": "stderr",
     "output_type": "stream",
     "text": [
      "[Parallel(n_jobs=-1)]: Done  18 tasks      | elapsed:    4.8s\n",
      "[Parallel(n_jobs=-1)]: Done 168 tasks      | elapsed:   27.4s\n",
      "[Parallel(n_jobs=-1)]: Done 200 out of 200 | elapsed:   31.8s finished\n",
      "[Parallel(n_jobs=16)]: Using backend ThreadingBackend with 16 concurrent workers.\n",
      "[Parallel(n_jobs=16)]: Done  18 tasks      | elapsed:    0.1s\n",
      "[Parallel(n_jobs=16)]: Done 168 tasks      | elapsed:    0.4s\n",
      "[Parallel(n_jobs=16)]: Done 200 out of 200 | elapsed:    0.5s finished\n",
      "[Parallel(n_jobs=-1)]: Using backend ThreadingBackend with 16 concurrent workers.\n"
     ]
    },
    {
     "name": "stdout",
     "output_type": "stream",
     "text": [
      "Result on validation data:  0.14150773989078833\n"
     ]
    },
    {
     "name": "stderr",
     "output_type": "stream",
     "text": [
      "[Parallel(n_jobs=-1)]: Done  18 tasks      | elapsed:    4.4s\n",
      "[Parallel(n_jobs=-1)]: Done 168 tasks      | elapsed:   25.1s\n",
      "[Parallel(n_jobs=-1)]: Done 200 out of 200 | elapsed:   29.1s finished\n",
      "[Parallel(n_jobs=16)]: Using backend ThreadingBackend with 16 concurrent workers.\n",
      "[Parallel(n_jobs=16)]: Done  18 tasks      | elapsed:    0.0s\n",
      "[Parallel(n_jobs=16)]: Done 168 tasks      | elapsed:    0.8s\n",
      "[Parallel(n_jobs=16)]: Done 200 out of 200 | elapsed:    0.8s finished\n",
      "[Parallel(n_jobs=-1)]: Using backend ThreadingBackend with 16 concurrent workers.\n"
     ]
    },
    {
     "name": "stdout",
     "output_type": "stream",
     "text": [
      "Result on validation data:  0.14112224967399192\n"
     ]
    },
    {
     "name": "stderr",
     "output_type": "stream",
     "text": [
      "[Parallel(n_jobs=-1)]: Done  18 tasks      | elapsed:    4.3s\n",
      "[Parallel(n_jobs=-1)]: Done 168 tasks      | elapsed:   25.7s\n",
      "[Parallel(n_jobs=-1)]: Done 200 out of 200 | elapsed:   29.7s finished\n",
      "[Parallel(n_jobs=16)]: Using backend ThreadingBackend with 16 concurrent workers.\n",
      "[Parallel(n_jobs=16)]: Done  18 tasks      | elapsed:    0.0s\n",
      "[Parallel(n_jobs=16)]: Done 168 tasks      | elapsed:    0.2s\n",
      "[Parallel(n_jobs=16)]: Done 200 out of 200 | elapsed:    0.3s finished\n",
      "[Parallel(n_jobs=16)]: Using backend ThreadingBackend with 16 concurrent workers.\n"
     ]
    },
    {
     "name": "stdout",
     "output_type": "stream",
     "text": [
      "Result on validation data:  0.14058733373493967\n",
      "Evaluate combined models...\n",
      "Training error...\n"
     ]
    },
    {
     "name": "stderr",
     "output_type": "stream",
     "text": [
      "[Parallel(n_jobs=16)]: Done  18 tasks      | elapsed:    1.0s\n",
      "[Parallel(n_jobs=16)]: Done 168 tasks      | elapsed:   29.4s\n",
      "[Parallel(n_jobs=16)]: Done 200 out of 200 | elapsed:   36.3s finished\n",
      "[Parallel(n_jobs=16)]: Using backend ThreadingBackend with 16 concurrent workers.\n",
      "[Parallel(n_jobs=16)]: Done  18 tasks      | elapsed:    4.6s\n",
      "[Parallel(n_jobs=16)]: Done 168 tasks      | elapsed:   24.8s\n",
      "[Parallel(n_jobs=16)]: Done 200 out of 200 | elapsed:   27.2s finished\n",
      "[Parallel(n_jobs=16)]: Using backend ThreadingBackend with 16 concurrent workers.\n",
      "[Parallel(n_jobs=16)]: Done  18 tasks      | elapsed:    5.5s\n",
      "[Parallel(n_jobs=16)]: Done 168 tasks      | elapsed:   30.3s\n",
      "[Parallel(n_jobs=16)]: Done 200 out of 200 | elapsed:   31.1s finished\n",
      "[Parallel(n_jobs=16)]: Using backend ThreadingBackend with 16 concurrent workers.\n",
      "[Parallel(n_jobs=16)]: Done  18 tasks      | elapsed:    1.3s\n",
      "[Parallel(n_jobs=16)]: Done 168 tasks      | elapsed:    9.4s\n",
      "[Parallel(n_jobs=16)]: Done 200 out of 200 | elapsed:   14.0s finished\n",
      "[Parallel(n_jobs=16)]: Using backend ThreadingBackend with 16 concurrent workers.\n",
      "[Parallel(n_jobs=16)]: Done  18 tasks      | elapsed:    1.6s\n",
      "[Parallel(n_jobs=16)]: Done 168 tasks      | elapsed:    5.6s\n",
      "[Parallel(n_jobs=16)]: Done 200 out of 200 | elapsed:    6.2s finished\n",
      "[Parallel(n_jobs=16)]: Using backend ThreadingBackend with 16 concurrent workers.\n"
     ]
    },
    {
     "name": "stdout",
     "output_type": "stream",
     "text": [
      "0.052415283217090027\n",
      "Validation error...\n"
     ]
    },
    {
     "name": "stderr",
     "output_type": "stream",
     "text": [
      "[Parallel(n_jobs=16)]: Done  18 tasks      | elapsed:    0.7s\n",
      "[Parallel(n_jobs=16)]: Done 168 tasks      | elapsed:    4.6s\n",
      "[Parallel(n_jobs=16)]: Done 200 out of 200 | elapsed:    5.1s finished\n",
      "[Parallel(n_jobs=16)]: Using backend ThreadingBackend with 16 concurrent workers.\n",
      "[Parallel(n_jobs=16)]: Done  18 tasks      | elapsed:    1.1s\n",
      "[Parallel(n_jobs=16)]: Done 168 tasks      | elapsed:    5.6s\n",
      "[Parallel(n_jobs=16)]: Done 200 out of 200 | elapsed:    6.4s finished\n",
      "[Parallel(n_jobs=16)]: Using backend ThreadingBackend with 16 concurrent workers.\n",
      "[Parallel(n_jobs=16)]: Done  18 tasks      | elapsed:    0.7s\n",
      "[Parallel(n_jobs=16)]: Done 168 tasks      | elapsed:    5.1s\n",
      "[Parallel(n_jobs=16)]: Done 200 out of 200 | elapsed:    5.9s finished\n",
      "[Parallel(n_jobs=16)]: Using backend ThreadingBackend with 16 concurrent workers.\n",
      "[Parallel(n_jobs=16)]: Done  18 tasks      | elapsed:    0.9s\n",
      "[Parallel(n_jobs=16)]: Done 168 tasks      | elapsed:    6.2s\n",
      "[Parallel(n_jobs=16)]: Done 200 out of 200 | elapsed:    6.7s finished\n",
      "[Parallel(n_jobs=16)]: Using backend ThreadingBackend with 16 concurrent workers.\n",
      "[Parallel(n_jobs=16)]: Done  18 tasks      | elapsed:    0.7s\n",
      "[Parallel(n_jobs=16)]: Done 168 tasks      | elapsed:    5.2s\n"
     ]
    },
    {
     "name": "stdout",
     "output_type": "stream",
     "text": [
      "0.14066846142386855\n"
     ]
    },
    {
     "name": "stderr",
     "output_type": "stream",
     "text": [
      "[Parallel(n_jobs=16)]: Done 200 out of 200 | elapsed:    6.3s finished\n"
     ]
    }
   ],
   "source": [
    "numpy.random.seed(123)\n",
    "torch.manual_seed(123)\n",
    "\n",
    "models = []\n",
    "\n",
    "print(\"Fitting RF Model...\")\n",
    "\n",
    "for i in range(5):\n",
    "    models.append(RF(X_train.numpy(), y_train.numpy(), X_val.numpy(), y_val.numpy()))\n",
    "\n",
    "\n",
    "print(\"Evaluate combined models...\")\n",
    "print(\"Training error...\")\n",
    "r_train = evaluate_numpy_models(models, X_train.numpy(), y_train.numpy())\n",
    "print(r_train)\n",
    "\n",
    "print(\"Validation error...\")\n",
    "r_val = evaluate_numpy_models(models, X_val.numpy(), y_val.numpy())\n",
    "print(r_val)"
   ]
  },
  {
   "cell_type": "code",
   "execution_count": 25,
   "metadata": {},
   "outputs": [],
   "source": [
    "# Implement support vector machine regression because they used sklearn, i copied it please dont DC us\n",
    "class SVM(Model):\n",
    "    def __init__(self, X_train, y_train, X_val, y_val):\n",
    "        self.X_train = X_train\n",
    "        self.y_train = y_train\n",
    "        self.__normalize_data()\n",
    "        self.clf = SVR(kernel='linear', degree=3, gamma='auto', coef0=0.0, tol=0.001,\n",
    "                    C=1.0, epsilon=0.1, shrinking=True, cache_size=200, verbose=False, max_iter=-1)\n",
    "\n",
    "        self.clf.fit(self.X_train, torch.log(self.y_train))\n",
    "        print(\"Result on validation data: \", self.evaluate(X_val, y_val))\n",
    "\n",
    "    def __normalize_data(self):\n",
    "        self.scaler = StandardScaler()\n",
    "        self.X_train = self.scaler.fit_transform(self.X_train)\n",
    "\n",
    "    def guess(self, feature):\n",
    "        return torch.exp(self.clf.predict(feature))"
   ]
  },
  {
   "cell_type": "code",
   "execution_count": 26,
   "metadata": {},
   "outputs": [],
   "source": [
    "class XGBoost(Model):\n",
    "\n",
    "    def __init__(self, X_train, y_train, X_val, y_val):\n",
    "        dtrain = xgb.DMatrix(X_train, label= torch.log(y_train))\n",
    "        evallist = [(dtrain, 'train')]\n",
    "        param = {'nthread': -1,\n",
    "                'max_depth': 7,\n",
    "                'eta': 0.02,\n",
    "                'silent': 1,\n",
    "                'objective': 'reg:linear',\n",
    "                'colsample_bytree': 0.7,\n",
    "                'subsample': 0.7}\n",
    "        num_round = 3000\n",
    "        self.bst = xgb.train(param, dtrain, num_round, evallist)\n",
    "        print(\"Result on validation data: \", self.evaluate(X_val, y_val))\n",
    "\n",
    "    def guess(self, feature):\n",
    "        dtest = xgb.DMatrix(feature)\n",
    "        return numpy.exp(self.bst.predict(dtest))"
   ]
  },
  {
   "cell_type": "code",
   "execution_count": 27,
   "metadata": {},
   "outputs": [],
   "source": [
    "class HistricalMedian(Model):\n",
    "    def __init__(self, X_train, y_train, X_val, y_val):\n",
    "        self.history = {}\n",
    "        self.feature_index = [1, 2, 3, 4]\n",
    "        for x, y in zip(X_train, y_train):\n",
    "            key = tuple(x[self.feature_index])\n",
    "            self.history.setdefault(key, []).append(y)\n",
    "        print(\"Result on validation data: \", self.evaluate(X_val, y_val))\n",
    "\n",
    "    def guess(self, features):\n",
    "        features = numpy.array(features)\n",
    "        features = features[:, self.feature_index]\n",
    "        guessed_sales = [numpy.median(self.history[tuple(feature)]) for feature in features]\n",
    "        return numpy.array(guessed_sales)"
   ]
  },
  {
   "cell_type": "code",
   "execution_count": 28,
   "metadata": {},
   "outputs": [],
   "source": [
    "class KNN(Model):\n",
    "    def __init__(self, X_train, y_train, X_val, y_val):\n",
    "        self.normalizer = Normalizer()\n",
    "        self.normalizer.fit(X_train)\n",
    "        self.clf = neighbors.KNeighborsRegressor(n_neighbors=10, weights='distance', p=1)\n",
    "        self.clf.fit(self.normalizer.transform(X_train), numpy.log(y_train))\n",
    "        print(\"Result on validation data: \", self.evaluate(self.normalizer.transform(X_val), y_val))\n",
    "\n",
    "    def guess(self, feature):\n",
    "        return numpy.exp(self.clf.predict(self.normalizer.transform(feature)))"
   ]
  },
  {
   "cell_type": "code",
   "execution_count": 223,
   "metadata": {},
   "outputs": [],
   "source": [
    "class Tanh2(nn.Module):\n",
    "  def _init_(self):\n",
    "    super()._init_()\n",
    "  \n",
    "  def forward(self, x):\n",
    "    return (F.tanh(x) + 1)/2\n",
    "\n",
    "\n",
    "\n",
    "\n",
    "class NN_with_EntityEmbedding(Model):\n",
    "    def __init__(self, X_train, y_train, X_val, y_val):\n",
    "        super().__init__()\n",
    "        self.epochs = 30\n",
    "        self.max_log_y = max(torch.max(torch.log(y_train)), torch.max(torch.log(y_val)))\n",
    "        self.one = nn.Sequential(nn.Embedding(1115, 50), nn.Flatten())\n",
    "        self.two = nn.Sequential(nn.Embedding(7, 50), nn.Flatten())\n",
    "        self.three = nn.Linear(1,50)\n",
    "        self.four = nn.Sequential(nn.Embedding(3, 50), nn.Flatten())\n",
    "        self.five = nn.Sequential(nn.Embedding(12, 50), nn.Flatten())\n",
    "        self.six = nn.Sequential(nn.Embedding(31, 50), nn.Flatten())\n",
    "        self.seven = nn.Sequential(nn.Embedding(12, 50), nn.Flatten())\n",
    "\n",
    "        \n",
    "        \n",
    "        self.network = nn.Sequential(\n",
    "            nn.Linear(350, 1000),\n",
    "            nn.ReLU(),\n",
    "            nn.Linear(1000, 500),\n",
    "            nn.ReLU(),\n",
    "            nn.Linear(500, 1),\n",
    "            Tanh2()\n",
    "        )\n",
    "        self.layer1 = nn.Linear(350, 1000)\n",
    "        self.layer2 = nn.Linear(1000, 1000)\n",
    "        self.layer3 = nn.Linear(1000, 500)\n",
    "        self.layer4 = nn.Linear(500, 500)\n",
    "        self.layer5 = nn.Linear(500, 1)\n",
    "\n",
    "        # Network Weight Initializations\n",
    "        nn.init.uniform_(self.network[0].weight, -0.05, 0.05)\n",
    "        nn.init.uniform_(self.network[2].weight, -0.05, 0.05)\n",
    "        nn.init.xavier_uniform_(self.network[4].weight)\n",
    "       \n",
    "        nn.init.kaiming_normal_(self.layer1.weight)\n",
    "        nn.init.kaiming_normal_(self.layer1.weight)\n",
    "        nn.init.kaiming_normal_(self.layer1.weight)\n",
    "        nn.init.kaiming_normal_(self.layer1.weight)\n",
    "        nn.init.xavier_normal_(self.layer1.weight)\n",
    "        \n",
    "        # Embedding Weight Initializations\n",
    "        nn.init.uniform_(self.one[0].weight, -0.05, 0.05)\n",
    "        nn.init.uniform_(self.two[0].weight, -0.05, 0.05)\n",
    "        nn.init.xavier_uniform_(self.three.weight)\n",
    "        nn.init.uniform_(self.four[0].weight, -0.05, 0.05)\n",
    "        nn.init.uniform_(self.five[0].weight, -0.05, 0.05)\n",
    "        nn.init.uniform_(self.six[0].weight, -0.05, 0.05)\n",
    "        nn.init.uniform_(self.seven[0].weight, -0.05, 0.05)\n",
    "        \n",
    "        self.to(device)\n",
    "        self.fit(X_train,y_train, X_val, y_val)\n",
    "\n",
    "    def forward(self, x):\n",
    "        one = self.one(x[:,[1]])\n",
    "        two = self.two(x[:,[2]])\n",
    "        three=self.three(x[:, [3]].float())\n",
    "        four=self.four(x[:, [4]])\n",
    "        five=self.five(x[:,[5]])\n",
    "        six=self.six(x[:, [6]])\n",
    "        seven = self.seven(x[:, [7]])\n",
    "        concat = torch.cat([one, two, three, four, five, six, seven], dim=1)\n",
    "        # output = self.network(concat)\n",
    "        output = F.relu(self.layer1(concat)) # 350 -> 1000\n",
    "        iden = output # 1000\n",
    "        output = F.relu(self.layer2(output)) # 1000 -> 1000\n",
    "        output = F.relu(self.layer3(output + iden)) # 1000 -> 500\n",
    "        iden = output # 500\n",
    "        output = F.relu(self.layer4(output)) # 500 -> 500\n",
    "        output = Tanh2()(self.layer5(output + iden)) # 500 -> 1\n",
    "        return (output + Tanh2()(self.network(concat)))/2\n",
    "    \n",
    "    def _val_for_fit(self, val):\n",
    "        return torch.log(val)/self.max_log_y\n",
    "    \n",
    "    def _val_for_pred(self, val):\n",
    "        return torch.exp(val*self.max_log_y)\n",
    "    \n",
    "    def fit(self, X_train, y_train, X_val, y_val):\n",
    "        loss_fn = nn.L1Loss().to(device)\n",
    "        optimizer = optim.Adam(self.parameters(), lr=0.001, eps=1e-07)\n",
    "        scheduler = optim.lr_scheduler.ReduceLROnPlateau(optimizer, 'min', patience=3, factor=0.5, verbose=True)\n",
    "        train_data = TensorDataset(X_train, self._val_for_fit(y_train))\n",
    "        train_loader = DataLoader(train_data, batch_size=128, shuffle=True)\n",
    "        self.train_losses = []\n",
    "        self.val_losses = []\n",
    "        for epoch in range(self.epochs):\n",
    "            train_loss = []\n",
    "            for inputs, targets in tqdm(train_loader,desc=f\"Training epoch {epoch+1}/{self.epochs}\",leave=False, colour='magenta', ncols=100):\n",
    "                inputs = inputs.to(device)\n",
    "                targets = targets.to(device)\n",
    "                outputs = self.forward(inputs).squeeze()\n",
    "                loss = loss_fn(outputs, targets)\n",
    "                train_loss.append(loss.item())\n",
    "                optimizer.zero_grad()\n",
    "                loss.backward()\n",
    "                optimizer.step()\n",
    "                \n",
    "            self.train_losses.append(numpy.mean(train_loss))\n",
    "            self.val_losses.append(self.evaluate(X_val.to(device), y_val.to(device)))\n",
    "            scheduler.step(self.val_losses[-1])\n",
    "\n",
    "        with torch.inference_mode():\n",
    "            print(f\"Loss on validation data: \", self.val_losses[-1])\n",
    "\n",
    "    def evaluate(self, X_val, y_val):\n",
    "        with torch.inference_mode():\n",
    "            assert(min(y_val) > 0) # All sales are positive so predictions should be positive\n",
    "            guessed_sales = self.guess(X_val) # Guess is implemented in children classes for inference\n",
    "            relative_err = torch.absolute((y_val - guessed_sales) / y_val) \n",
    "            result = torch.sum(relative_err) / len(y_val)\n",
    "            return result.item()\n",
    "    \n",
    "    def guess(self, features):\n",
    "        with torch.inference_mode():\n",
    "            result = self.forward(features).flatten()\n",
    "        return self._val_for_pred(result)"
   ]
  },
  {
   "cell_type": "code",
   "execution_count": 224,
   "metadata": {},
   "outputs": [
    {
     "name": "stdout",
     "output_type": "stream",
     "text": [
      "Fitting NN_with_EntityEmbedding...\n"
     ]
    },
    {
     "name": "stderr",
     "output_type": "stream",
     "text": [
      "                                                                                                    7.15it/s]\u001b[0m\r"
     ]
    },
    {
     "name": "stdout",
     "output_type": "stream",
     "text": [
      "Loss on validation data:  0.06885135918855667\n"
     ]
    },
    {
     "name": "stderr",
     "output_type": "stream",
     "text": [
      "                                                                                                    0.12it/s]\u001b[0m\r"
     ]
    },
    {
     "name": "stdout",
     "output_type": "stream",
     "text": [
      "Loss on validation data:  0.06693728268146515\n"
     ]
    },
    {
     "name": "stderr",
     "output_type": "stream",
     "text": [
      "                                                                                                    3.36it/s]\u001b[0m\r"
     ]
    },
    {
     "name": "stdout",
     "output_type": "stream",
     "text": [
      "Loss on validation data:  0.0667845606803894\n"
     ]
    },
    {
     "name": "stderr",
     "output_type": "stream",
     "text": [
      "                                                                                                    8.58it/s]\u001b[0m\r"
     ]
    },
    {
     "name": "stdout",
     "output_type": "stream",
     "text": [
      "Loss on validation data:  0.06690318882465363\n"
     ]
    },
    {
     "name": "stderr",
     "output_type": "stream",
     "text": [
      "                                                                                                    5.89it/s]\u001b[0m\r"
     ]
    },
    {
     "name": "stdout",
     "output_type": "stream",
     "text": [
      "Loss on validation data:  0.06715640425682068\n",
      "Evaluate combined models...\n",
      "Training error...\n",
      "0.039868224412202835\n",
      "Validation error...\n",
      "0.05997873842716217\n"
     ]
    }
   ],
   "source": [
    "numpy.random.seed(123)\n",
    "torch.manual_seed(123)\n",
    "\n",
    "models = []\n",
    "\n",
    "print(\"Fitting NN_with_EntityEmbedding...\")\n",
    "\n",
    "for i in range(5):\n",
    "    models.append(NN_with_EntityEmbedding(X_train, y_train, X_val, y_val))\n",
    "\n",
    "\n",
    "print(\"Evaluate combined models...\")\n",
    "print(\"Training error...\")\n",
    "r_train = evaluate_models(models, X_train.to(device), y_train.to(device))\n",
    "print(r_train)\n",
    "\n",
    "print(\"Validation error...\")\n",
    "r_val = evaluate_models(models, X_val.to(device), y_val.to(device))\n",
    "print(r_val)"
   ]
  },
  {
   "cell_type": "code",
   "execution_count": null,
   "metadata": {},
   "outputs": [],
   "source": [
    "print(\"ResNet Final Training \")"
   ]
  },
  {
   "cell_type": "code",
   "execution_count": 156,
   "metadata": {},
   "outputs": [
    {
     "data": {
      "image/png": "[encoded data removed]",
      "text/plain": [
       "<Figure size 640x480 with 1 Axes>"
      ]
     },
     "metadata": {},
     "output_type": "display_data"
    }
   ],
   "source": [
    "import matplotlib.pyplot as plt\n",
    "\n",
    "for model in models:\n",
    "    plt.plot(model.train_losses, label=f\"Model {i}\")\n",
    "plt.legend()\n",
    "plt.title(\"Training Losses\")\n",
    "plt.show()"
   ]
  },
  {
   "cell_type": "code",
   "execution_count": 32,
   "metadata": {},
   "outputs": [],
   "source": [
    "class NN(Model):\n",
    "    def __init__(self, X_train, y_train, X_val, y_val):\n",
    "        super(NN, self).__init__()\n",
    "        self.epochs = 10\n",
    "        self.max_log_y = max(torch.max(torch.log(y_train)), torch.max(torch.log(y_val)))\n",
    "        self.network = nn.Sequential(\n",
    "            nn.Linear(1183, 1000),\n",
    "            nn.ReLU(),\n",
    "            nn.Linear(1000, 500),\n",
    "            nn.ReLU(),\n",
    "            nn.Linear(500, 1),\n",
    "            nn.Sigmoid(),\n",
    "        )\n",
    "\n",
    "        # Network Weight Initializations\n",
    "        nn.init.uniform_(self.network[0].weight, -0.05, 0.05)\n",
    "        nn.init.uniform_(self.network[2].weight, -0.05, 0.05)\n",
    "        nn.init.xavier_uniform_(self.network[4].weight)\n",
    "\n",
    "        self.to(device)\n",
    "        self.fit(X_train, y_train, X_val, y_val)\n",
    "\n",
    "    def forward(self, x):\n",
    "        return self.network(x)\n",
    "\n",
    "    def _val_for_fit(self, val):\n",
    "        return torch.log(val) / self.max_log_y\n",
    "\n",
    "    def _val_for_pred(self, val):\n",
    "        return torch.exp(val * self.max_log_y)\n",
    "\n",
    "    def fit(self, X_train, y_train, X_val, y_val):\n",
    "        loss_fn = nn.L1Loss().to(device)\n",
    "        optimizer = optim.Adam(self.parameters(), lr=0.001)\n",
    "        train_data = TensorDataset(X_train, self._val_for_fit(y_train))\n",
    "        train_loader = DataLoader(train_data, batch_size=128, shuffle=False)\n",
    "        for epoch in range(self.epochs):\n",
    "            for inputs, targets in tqdm(\n",
    "                train_loader,\n",
    "                desc=f\"Training epoch {epoch+1}/{self.epochs}\",\n",
    "                leave=False,\n",
    "                colour=\"magenta\",\n",
    "            ):\n",
    "                inputs = inputs.float().to(device)\n",
    "                targets = targets.to(device)\n",
    "                outputs = self.forward(inputs).squeeze()\n",
    "                loss = loss_fn(outputs, targets)\n",
    "                optimizer.zero_grad()\n",
    "                loss.backward()\n",
    "                optimizer.step()\n",
    "\n",
    "        with torch.inference_mode():\n",
    "            print(f\"Loss on validation data: \", self.evaluate(X_val.to(device), y_val.to(device)))\n",
    "\n",
    "    def evaluate(self, X_val, y_val):\n",
    "        assert (min(y_val) > 0)  # All sales are positive so predictions should be positive\n",
    "        guessed_sales = self.guess(X_val)  # Guess is implemented in children classes for inference\n",
    "        relative_err = torch.absolute((y_val - guessed_sales) / y_val)\n",
    "        result = torch.sum(relative_err) / len(y_val)\n",
    "        return result.item()\n",
    "\n",
    "    def guess(self, features):\n",
    "        with torch.no_grad():\n",
    "            result = self.network(features).flatten()\n",
    "        return self._val_for_pred(result)"
   ]
  },
  {
   "cell_type": "code",
   "execution_count": 33,
   "metadata": {},
   "outputs": [
    {
     "name": "stdout",
     "output_type": "stream",
     "text": [
      "Fitting NN...\n"
     ]
    },
    {
     "name": "stderr",
     "output_type": "stream",
     "text": [
      "Training epoch 1/10:   2%|\u001b[35m▏         \u001b[0m| 30/1563 [00:00<00:05, 295.00it/s]"
     ]
    },
    {
     "name": "stderr",
     "output_type": "stream",
     "text": [
      "                                                                       6.35it/s]s]\r"
     ]
    },
    {
     "ename": "KeyboardInterrupt",
     "evalue": "",
     "output_type": "error",
     "traceback": [
      "\u001b[1;31m---------------------------------------------------------------------------\u001b[0m",
      "\u001b[1;31mKeyboardInterrupt\u001b[0m                         Traceback (most recent call last)",
      "Cell \u001b[1;32mIn[33], line 8\u001b[0m\n\u001b[0;32m      6\u001b[0m \u001b[38;5;28mprint\u001b[39m(\u001b[38;5;124m\"\u001b[39m\u001b[38;5;124mFitting NN...\u001b[39m\u001b[38;5;124m\"\u001b[39m)\n\u001b[0;32m      7\u001b[0m \u001b[38;5;28;01mfor\u001b[39;00m i \u001b[38;5;129;01min\u001b[39;00m \u001b[38;5;28mrange\u001b[39m(\u001b[38;5;241m5\u001b[39m):\n\u001b[1;32m----> 8\u001b[0m     models\u001b[38;5;241m.\u001b[39mappend(\u001b[43mNN\u001b[49m\u001b[43m(\u001b[49m\u001b[43mXenc_train\u001b[49m\u001b[43m,\u001b[49m\u001b[43m \u001b[49m\u001b[43my_train\u001b[49m\u001b[43m,\u001b[49m\u001b[43m \u001b[49m\u001b[43mXenc_val\u001b[49m\u001b[43m,\u001b[49m\u001b[43m \u001b[49m\u001b[43my_val\u001b[49m\u001b[43m)\u001b[49m)\n\u001b[0;32m     10\u001b[0m \u001b[38;5;28mprint\u001b[39m(\u001b[38;5;124m\"\u001b[39m\u001b[38;5;124mEvaluate combined models...\u001b[39m\u001b[38;5;124m\"\u001b[39m)\n\u001b[0;32m     11\u001b[0m \u001b[38;5;28mprint\u001b[39m(\u001b[38;5;124m\"\u001b[39m\u001b[38;5;124mTraining error...\u001b[39m\u001b[38;5;124m\"\u001b[39m)\n",
      "Cell \u001b[1;32mIn[32], line 21\u001b[0m, in \u001b[0;36mNN.__init__\u001b[1;34m(self, X_train, y_train, X_val, y_val)\u001b[0m\n\u001b[0;32m     18\u001b[0m nn\u001b[38;5;241m.\u001b[39minit\u001b[38;5;241m.\u001b[39mxavier_uniform_(\u001b[38;5;28mself\u001b[39m\u001b[38;5;241m.\u001b[39mnetwork[\u001b[38;5;241m4\u001b[39m]\u001b[38;5;241m.\u001b[39mweight)\n\u001b[0;32m     20\u001b[0m \u001b[38;5;28mself\u001b[39m\u001b[38;5;241m.\u001b[39mto(device)\n\u001b[1;32m---> 21\u001b[0m \u001b[38;5;28;43mself\u001b[39;49m\u001b[38;5;241;43m.\u001b[39;49m\u001b[43mfit\u001b[49m\u001b[43m(\u001b[49m\u001b[43mX_train\u001b[49m\u001b[43m,\u001b[49m\u001b[43m \u001b[49m\u001b[43my_train\u001b[49m\u001b[43m,\u001b[49m\u001b[43m \u001b[49m\u001b[43mX_val\u001b[49m\u001b[43m,\u001b[49m\u001b[43m \u001b[49m\u001b[43my_val\u001b[49m\u001b[43m)\u001b[49m\n",
      "Cell \u001b[1;32mIn[32], line 44\u001b[0m, in \u001b[0;36mNN.fit\u001b[1;34m(self, X_train, y_train, X_val, y_val)\u001b[0m\n\u001b[0;32m     37\u001b[0m \u001b[38;5;28;01mfor\u001b[39;00m epoch \u001b[38;5;129;01min\u001b[39;00m \u001b[38;5;28mrange\u001b[39m(\u001b[38;5;28mself\u001b[39m\u001b[38;5;241m.\u001b[39mepochs):\n\u001b[0;32m     38\u001b[0m     \u001b[38;5;28;01mfor\u001b[39;00m inputs, targets \u001b[38;5;129;01min\u001b[39;00m tqdm(\n\u001b[0;32m     39\u001b[0m         train_loader,\n\u001b[0;32m     40\u001b[0m         desc\u001b[38;5;241m=\u001b[39m\u001b[38;5;124mf\u001b[39m\u001b[38;5;124m\"\u001b[39m\u001b[38;5;124mTraining epoch \u001b[39m\u001b[38;5;132;01m{\u001b[39;00mepoch\u001b[38;5;241m+\u001b[39m\u001b[38;5;241m1\u001b[39m\u001b[38;5;132;01m}\u001b[39;00m\u001b[38;5;124m/\u001b[39m\u001b[38;5;132;01m{\u001b[39;00m\u001b[38;5;28mself\u001b[39m\u001b[38;5;241m.\u001b[39mepochs\u001b[38;5;132;01m}\u001b[39;00m\u001b[38;5;124m\"\u001b[39m,\n\u001b[0;32m     41\u001b[0m         leave\u001b[38;5;241m=\u001b[39m\u001b[38;5;28;01mFalse\u001b[39;00m,\n\u001b[0;32m     42\u001b[0m         colour\u001b[38;5;241m=\u001b[39m\u001b[38;5;124m\"\u001b[39m\u001b[38;5;124mmagenta\u001b[39m\u001b[38;5;124m\"\u001b[39m,\n\u001b[0;32m     43\u001b[0m     ):\n\u001b[1;32m---> 44\u001b[0m         inputs \u001b[38;5;241m=\u001b[39m \u001b[43minputs\u001b[49m\u001b[38;5;241;43m.\u001b[39;49m\u001b[43mfloat\u001b[49m\u001b[43m(\u001b[49m\u001b[43m)\u001b[49m\u001b[38;5;241;43m.\u001b[39;49m\u001b[43mto\u001b[49m\u001b[43m(\u001b[49m\u001b[43mdevice\u001b[49m\u001b[43m)\u001b[49m\n\u001b[0;32m     45\u001b[0m         targets \u001b[38;5;241m=\u001b[39m targets\u001b[38;5;241m.\u001b[39mto(device)\n\u001b[0;32m     46\u001b[0m         outputs \u001b[38;5;241m=\u001b[39m \u001b[38;5;28mself\u001b[39m\u001b[38;5;241m.\u001b[39mforward(inputs)\u001b[38;5;241m.\u001b[39msqueeze()\n",
      "\u001b[1;31mKeyboardInterrupt\u001b[0m: "
     ]
    }
   ],
   "source": [
    "numpy.random.seed(123)\n",
    "torch.manual_seed(123)\n",
    "\n",
    "models = []\n",
    "\n",
    "print(\"Fitting NN...\")\n",
    "for i in range(5):\n",
    "    models.append(NN(Xenc_train, y_train, Xenc_val, y_val))\n",
    "\n",
    "print(\"Evaluate combined models...\")\n",
    "print(\"Training error...\")\n",
    "r_train = evaluate_models(models, Xenc_train.to(device), y_train.to(device))\n",
    "print(r_train)\n",
    "\n",
    "print(\"Validation error...\")\n",
    "r_val = evaluate_models(models, Xenc_val.to(device), y_val.to(device))\n",
    "print(r_val)\n"
   ]
  },
  {
   "cell_type": "code",
   "execution_count": null,
   "metadata": {},
   "outputs": [],
   "source": []
  }
 ],
 "metadata": {
  "kernelspec": {
   "display_name": "Python 3",
   "language": "python",
   "name": "python3"
  },
  "language_info": {
   "codemirror_mode": {
    "name": "ipython",
    "version": 3
   },
   "file_extension": ".py",
   "mimetype": "text/x-python",
   "name": "python",
   "nbconvert_exporter": "python",
   "pygments_lexer": "ipython3",
   "version": "3.11.6"
  }
 },
 "nbformat": 4,
 "nbformat_minor": 2
}
