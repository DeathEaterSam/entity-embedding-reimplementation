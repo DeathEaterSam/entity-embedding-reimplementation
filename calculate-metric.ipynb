{
 "cells": [
  {
   "cell_type": "markdown",
   "metadata": {},
   "source": [
    "# Imports"
   ]
  },
  {
   "cell_type": "code",
   "execution_count": null,
   "metadata": {},
   "outputs": [],
   "source": [
    "import pickle\n",
    "import random\n",
    "import numpy"
   ]
  },
  {
   "cell_type": "code",
   "execution_count": null,
   "metadata": {},
   "outputs": [],
   "source": [
    "# Read the data\n",
    "f = open('feature_train_data.pickle', 'rb')\n",
    "(X, y) = pickle.load(f)"
   ]
  },
  {
   "cell_type": "code",
   "execution_count": null,
   "metadata": {},
   "outputs": [],
   "source": [
    "\n",
    "# dictlist is a list of dictionaries. The first dimension is the store ID. For each store, we have a bunch of data points. Each data point is a dictionary. \n",
    "# The key is the tuple of (day_of_week, promo, year, month, day), and the value is the sale.\n",
    "# All these datapoints are added\n",
    "dictlist = [{} for _ in range(1115)]\n",
    "for feature, sale in zip(X, y):\n",
    "    store = feature[1]\n",
    "    dictlist[store][tuple(feature[2:7])] = sale\n",
    "\n",
    "# Load the embeddings\n",
    "with open(\"embeddings.pickle\", 'rb') as f:\n",
    "    embeddings = pickle.load(f)\n",
    "store_embeddings = embeddings[0]"
   ]
  },
  {
   "cell_type": "code",
   "execution_count": null,
   "metadata": {},
   "outputs": [],
   "source": [
    "# For a selected pairs of stores, calculate the average distance between the sales\n",
    "# over all instances where their features agree.\n",
    "def distance(store_pairs, dictlist):\n",
    "    '''Distance as defined in the paper'''\n",
    "    absdiffs = []\n",
    "    a, b = store_pairs\n",
    "    for key in dictlist[a]: # for each data point in store a\n",
    "        if key in dictlist[b]: # if the same data point exists in store b\n",
    "            absdiffs.append(abs(dictlist[a][key] - dictlist[b][key])) # add the abs difference in sales to the list\n",
    "    return sum(absdiffs) / float(len(absdiffs)) # return the average"
   ]
  },
  {
   "cell_type": "code",
   "execution_count": null,
   "metadata": {},
   "outputs": [],
   "source": [
    "# For a selected pairs of stores, calculate the euclidean distance between the embeddings\n",
    "def embed_distance(store_pairs, em):\n",
    "    '''Distance in the embedding space'''\n",
    "    a, b = store_pairs\n",
    "    a_vec = em[a]\n",
    "    b_vec = em[b]\n",
    "    return(numpy.linalg.norm(a_vec - b_vec))"
   ]
  },
  {
   "cell_type": "code",
   "execution_count": null,
   "metadata": {},
   "outputs": [],
   "source": [
    "# Generate n random store pairs\n",
    "n = 10000\n",
    "pairs = set()\n",
    "while len(pairs) < n:\n",
    "    a, b = random.sample(range(1115), 2)\n",
    "    if a < b:\n",
    "        pairs.add((a, b))"
   ]
  },
  {
   "cell_type": "code",
   "execution_count": null,
   "metadata": {},
   "outputs": [],
   "source": [
    "# Calcuate distances\n",
    "with open('distances.csv', 'w') as f:\n",
    "    for pair in pairs:\n",
    "        d = distance(pair, dictlist)\n",
    "        d_em = embed_distance(pair, store_embeddings)\n",
    "        print(d, d_em, file=f)"
   ]
  }
 ],
 "metadata": {
  "kernelspec": {
   "display_name": "MLProj",
   "language": "python",
   "name": "python3"
  },
  "language_info": {
   "codemirror_mode": {
    "name": "ipython",
    "version": 3
   },
   "file_extension": ".py",
   "mimetype": "text/x-python",
   "name": "python",
   "nbconvert_exporter": "python",
   "pygments_lexer": "ipython3",
   "version": "3.11.6"
  }
 },
 "nbformat": 4,
 "nbformat_minor": 2
}
