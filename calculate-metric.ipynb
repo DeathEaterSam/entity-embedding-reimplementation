{
 "cells": [
  {
   "cell_type": "markdown",
   "metadata": {},
   "source": [
    "# Imports"
   ]
  },
  {
   "cell_type": "code",
   "execution_count": 1,
   "metadata": {},
   "outputs": [],
   "source": [
    "import pickle\n",
    "import random\n",
    "import numpy"
   ]
  },
  {
   "cell_type": "code",
   "execution_count": 3,
   "metadata": {},
   "outputs": [
    {
     "ename": "FileNotFoundError",
     "evalue": "[Errno 2] No such file or directory: 'feature_train_data.pickle'",
     "output_type": "error",
     "traceback": [
      "\u001b[1;31m---------------------------------------------------------------------------\u001b[0m",
      "\u001b[1;31mFileNotFoundError\u001b[0m                         Traceback (most recent call last)",
      "\u001b[1;32mc:\\Users\\Sam\\Desktop\\ML Proj\\entity-embedding-reimplementation\\calculate-metric.ipynb Cell 3\u001b[0m line \u001b[0;36m2\n\u001b[0;32m      <a href='vscode-notebook-cell:/c%3A/Users/Sam/Desktop/ML%20Proj/entity-embedding-reimplementation/calculate-metric.ipynb#W6sZmlsZQ%3D%3D?line=0'>1</a>\u001b[0m \u001b[39m# Read the data\u001b[39;00m\n\u001b[1;32m----> <a href='vscode-notebook-cell:/c%3A/Users/Sam/Desktop/ML%20Proj/entity-embedding-reimplementation/calculate-metric.ipynb#W6sZmlsZQ%3D%3D?line=1'>2</a>\u001b[0m f \u001b[39m=\u001b[39m \u001b[39mopen\u001b[39;49m(\u001b[39m'\u001b[39;49m\u001b[39mfeature_train_data.pickle\u001b[39;49m\u001b[39m'\u001b[39;49m, \u001b[39m'\u001b[39;49m\u001b[39mrb\u001b[39;49m\u001b[39m'\u001b[39;49m)\n\u001b[0;32m      <a href='vscode-notebook-cell:/c%3A/Users/Sam/Desktop/ML%20Proj/entity-embedding-reimplementation/calculate-metric.ipynb#W6sZmlsZQ%3D%3D?line=2'>3</a>\u001b[0m (X, y) \u001b[39m=\u001b[39m pickle\u001b[39m.\u001b[39mload(f)\n",
      "File \u001b[1;32mc:\\Users\\Sam\\Desktop\\ML Proj\\MLProj\\Lib\\site-packages\\IPython\\core\\interactiveshell.py:308\u001b[0m, in \u001b[0;36m_modified_open\u001b[1;34m(file, *args, **kwargs)\u001b[0m\n\u001b[0;32m    301\u001b[0m \u001b[39mif\u001b[39;00m file \u001b[39min\u001b[39;00m {\u001b[39m0\u001b[39m, \u001b[39m1\u001b[39m, \u001b[39m2\u001b[39m}:\n\u001b[0;32m    302\u001b[0m     \u001b[39mraise\u001b[39;00m \u001b[39mValueError\u001b[39;00m(\n\u001b[0;32m    303\u001b[0m         \u001b[39mf\u001b[39m\u001b[39m\"\u001b[39m\u001b[39mIPython won\u001b[39m\u001b[39m'\u001b[39m\u001b[39mt let you open fd=\u001b[39m\u001b[39m{\u001b[39;00mfile\u001b[39m}\u001b[39;00m\u001b[39m by default \u001b[39m\u001b[39m\"\u001b[39m\n\u001b[0;32m    304\u001b[0m         \u001b[39m\"\u001b[39m\u001b[39mas it is likely to crash IPython. If you know what you are doing, \u001b[39m\u001b[39m\"\u001b[39m\n\u001b[0;32m    305\u001b[0m         \u001b[39m\"\u001b[39m\u001b[39myou can use builtins\u001b[39m\u001b[39m'\u001b[39m\u001b[39m open.\u001b[39m\u001b[39m\"\u001b[39m\n\u001b[0;32m    306\u001b[0m     )\n\u001b[1;32m--> 308\u001b[0m \u001b[39mreturn\u001b[39;00m io_open(file, \u001b[39m*\u001b[39;49margs, \u001b[39m*\u001b[39;49m\u001b[39m*\u001b[39;49mkwargs)\n",
      "\u001b[1;31mFileNotFoundError\u001b[0m: [Errno 2] No such file or directory: 'feature_train_data.pickle'"
     ]
    }
   ],
   "source": [
    "# Read the data\n",
    "f = open('feature_train_data.pickle', 'rb')\n",
    "(X, y) = pickle.load(f)"
   ]
  },
  {
   "cell_type": "code",
   "execution_count": 4,
   "metadata": {},
   "outputs": [
    {
     "ename": "NameError",
     "evalue": "name 'X' is not defined",
     "output_type": "error",
     "traceback": [
      "\u001b[1;31m---------------------------------------------------------------------------\u001b[0m",
      "\u001b[1;31mNameError\u001b[0m                                 Traceback (most recent call last)",
      "\u001b[1;32mc:\\Users\\Sam\\Desktop\\ML Proj\\entity-embedding-reimplementation\\calculate-metric.ipynb Cell 4\u001b[0m line \u001b[0;36m5\n\u001b[0;32m      <a href='vscode-notebook-cell:/c%3A/Users/Sam/Desktop/ML%20Proj/entity-embedding-reimplementation/calculate-metric.ipynb#X11sZmlsZQ%3D%3D?line=0'>1</a>\u001b[0m \u001b[39m# dictlist is a list of dictionaries. The first dimension is the store ID. For each store, we have a bunch of data points. Each data point is a dictionary. \u001b[39;00m\n\u001b[0;32m      <a href='vscode-notebook-cell:/c%3A/Users/Sam/Desktop/ML%20Proj/entity-embedding-reimplementation/calculate-metric.ipynb#X11sZmlsZQ%3D%3D?line=1'>2</a>\u001b[0m \u001b[39m# The key is the tuple of (day_of_week, promo, year, month, day), and the value is the sale.\u001b[39;00m\n\u001b[0;32m      <a href='vscode-notebook-cell:/c%3A/Users/Sam/Desktop/ML%20Proj/entity-embedding-reimplementation/calculate-metric.ipynb#X11sZmlsZQ%3D%3D?line=2'>3</a>\u001b[0m \u001b[39m# All these datapoints are added\u001b[39;00m\n\u001b[0;32m      <a href='vscode-notebook-cell:/c%3A/Users/Sam/Desktop/ML%20Proj/entity-embedding-reimplementation/calculate-metric.ipynb#X11sZmlsZQ%3D%3D?line=3'>4</a>\u001b[0m dictlist \u001b[39m=\u001b[39m [{} \u001b[39mfor\u001b[39;00m _ \u001b[39min\u001b[39;00m \u001b[39mrange\u001b[39m(\u001b[39m1115\u001b[39m)]\n\u001b[1;32m----> <a href='vscode-notebook-cell:/c%3A/Users/Sam/Desktop/ML%20Proj/entity-embedding-reimplementation/calculate-metric.ipynb#X11sZmlsZQ%3D%3D?line=4'>5</a>\u001b[0m \u001b[39mfor\u001b[39;00m feature, sale \u001b[39min\u001b[39;00m \u001b[39mzip\u001b[39m(X, y):\n\u001b[0;32m      <a href='vscode-notebook-cell:/c%3A/Users/Sam/Desktop/ML%20Proj/entity-embedding-reimplementation/calculate-metric.ipynb#X11sZmlsZQ%3D%3D?line=5'>6</a>\u001b[0m     store \u001b[39m=\u001b[39m feature[\u001b[39m1\u001b[39m]\n\u001b[0;32m      <a href='vscode-notebook-cell:/c%3A/Users/Sam/Desktop/ML%20Proj/entity-embedding-reimplementation/calculate-metric.ipynb#X11sZmlsZQ%3D%3D?line=6'>7</a>\u001b[0m     dictlist[store][\u001b[39mtuple\u001b[39m(feature[\u001b[39m2\u001b[39m:\u001b[39m7\u001b[39m])] \u001b[39m=\u001b[39m sale\n",
      "\u001b[1;31mNameError\u001b[0m: name 'X' is not defined"
     ]
    }
   ],
   "source": [
    "\n",
    "# dictlist is a list of dictionaries. The first dimension is the store ID. For each store, we have a bunch of data points. Each data point is a dictionary. \n",
    "# The key is the tuple of (day_of_week, promo, year, month, day), and the value is the sale.\n",
    "# All these datapoints are added\n",
    "dictlist = [{} for _ in range(1115)]\n",
    "for feature, sale in zip(X, y):\n",
    "    store = feature[1]\n",
    "    dictlist[store][tuple(feature[2:7])] = sale\n",
    "\n",
    "# Load the embeddings\n",
    "with open(\"embeddings.pickle\", 'rb') as f:\n",
    "    embeddings = pickle.load(f)\n",
    "store_embeddings = embeddings[0]"
   ]
  },
  {
   "cell_type": "code",
   "execution_count": 5,
   "metadata": {},
   "outputs": [],
   "source": [
    "# For a selected pairs of stores, calculate the average distance between the sales\n",
    "# over all instances where their features agree.\n",
    "def distance(store_pairs, dictlist):\n",
    "    '''Distance as defined in the paper'''\n",
    "    absdiffs = []\n",
    "    a, b = store_pairs\n",
    "    for key in dictlist[a]: # for each data point in store a\n",
    "        if key in dictlist[b]: # if the same data point exists in store b\n",
    "            absdiffs.append(abs(dictlist[a][key] - dictlist[b][key])) # add the abs difference in sales to the list\n",
    "    return sum(absdiffs) / float(len(absdiffs)) # return the average"
   ]
  },
  {
   "cell_type": "code",
   "execution_count": 6,
   "metadata": {},
   "outputs": [],
   "source": [
    "# For a selected pairs of stores, calculate the euclidean distance between the embeddings\n",
    "def embed_distance(store_pairs, em):\n",
    "    '''Distance in the embedding space'''\n",
    "    a, b = store_pairs\n",
    "    a_vec = em[a]\n",
    "    b_vec = em[b]\n",
    "    return(numpy.linalg.norm(a_vec - b_vec))"
   ]
  },
  {
   "cell_type": "code",
   "execution_count": null,
   "metadata": {},
   "outputs": [],
   "source": [
    "# Generate n random store pairs\n",
    "n = 10000\n",
    "pairs = set()\n",
    "while len(pairs) < n:\n",
    "    a, b = random.sample(range(1115), 2)\n",
    "    if a < b:\n",
    "        pairs.add((a, b))"
   ]
  },
  {
   "cell_type": "code",
   "execution_count": null,
   "metadata": {},
   "outputs": [],
   "source": [
    "# Calcuate distances\n",
    "with open('distances.csv', 'w') as f:\n",
    "    for pair in pairs:\n",
    "        d = distance(pair, dictlist)\n",
    "        d_em = embed_distance(pair, store_embeddings)\n",
    "        print(d, d_em, file=f)"
   ]
  }
 ],
 "metadata": {
  "kernelspec": {
   "display_name": "MLProj",
   "language": "python",
   "name": "python3"
  },
  "language_info": {
   "codemirror_mode": {
    "name": "ipython",
    "version": 3
   },
   "file_extension": ".py",
   "mimetype": "text/x-python",
   "name": "python",
   "nbconvert_exporter": "python",
   "pygments_lexer": "ipython3",
   "version": "3.11.6"
  }
 },
 "nbformat": 4,
 "nbformat_minor": 2
}
